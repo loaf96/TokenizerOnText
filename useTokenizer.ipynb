{
 "cells": [
  {
   "cell_type": "code",
   "execution_count": 1,
   "metadata": {},
   "outputs": [],
   "source": [
    "import tensorflow as tf\n",
    "import tensorflow.keras as tfk\n",
    "import pandas as pd\n",
    "import json"
   ]
  },
  {
   "cell_type": "code",
   "execution_count": 11,
   "metadata": {},
   "outputs": [],
   "source": [
    "files_paths = ['data/dialogue/conversation1.csv', 'data/dialogue/conversation2.csv', 'data/dialogue/conversation3.csv']"
   ]
  },
  {
   "cell_type": "code",
   "execution_count": 16,
   "metadata": {},
   "outputs": [],
   "source": [
    "def get_data(path_to_files, multiple_files=True):\n",
    "    if multiple_files == False:\n",
    "        data_from_files = pd.read_csv(path_to_files)\n",
    "    elif multiple_files == True:\n",
    "        data_from_files = []\n",
    "        for file_path in path_to_files:\n",
    "            file_data = pd.read_csv(file_path, index_col='Unnamed: 0')\n",
    "            data_from_files.append(file_data)\n",
    "    return data_from_files\n",
    "\n",
    "def make_dict_real(file_contents, multiple_files=True):\n",
    "    list_of_dialogue = []\n",
    "    if multiple_files == False:\n",
    "        j = file_contents['0'].tolist()\n",
    "        k = []\n",
    "        for h in j:\n",
    "            l = dict({h.split(':')[0]: h.split(': ')[-1]})\n",
    "            k.append(l)\n",
    "        list_of_dialogue = k\n",
    "    else:\n",
    "        for i in file_contents:\n",
    "            j = i['0'].tolist()\n",
    "            k = []\n",
    "            for h in j:\n",
    "                l = dict({h.split(':')[0]: h.split(': ')[-1]})\n",
    "                k.append(l)\n",
    "            list_of_dialogue.append(k)\n",
    "    return list_of_dialogue"
   ]
  },
  {
   "cell_type": "code",
   "execution_count": 27,
   "metadata": {},
   "outputs": [],
   "source": [
    "with open('tokenizer/kaggle_dialogue/tokenizerWordIndex_dialogue.json', 'r') as saved_tokenizer:\n",
    "    botsSpecialDict = tf.keras.preprocessing.text.tokenizer_from_json(\\\n",
    "                                                                      json.load(\\\n",
    "                                                                                saved_tokenizer\\\n",
    "                                                                               )\\\n",
    "                                                                     )"
   ]
  },
  {
   "cell_type": "code",
   "execution_count": 17,
   "metadata": {},
   "outputs": [],
   "source": [
    "conversation_data = get_data(files_paths)\n",
    "conversation_in_lists = make_dict_real(conversation_data)"
   ]
  },
  {
   "cell_type": "code",
   "execution_count": 20,
   "metadata": {},
   "outputs": [
    {
     "data": {
      "text/plain": [
       "{'Meeting Chairman': \"If we are all here, let's get started. First of all, I'd like you to please join me in welcoming Jack Peterson, our Southwest Area Sales Vice President.\"}"
      ]
     },
     "execution_count": 20,
     "metadata": {},
     "output_type": "execute_result"
    }
   ],
   "source": [
    "conversation_in_lists[0]"
   ]
  },
  {
   "cell_type": "code",
   "execution_count": 13,
   "metadata": {},
   "outputs": [
    {
     "data": {
      "text/html": [
       "<div>\n",
       "<style scoped>\n",
       "    .dataframe tbody tr th:only-of-type {\n",
       "        vertical-align: middle;\n",
       "    }\n",
       "\n",
       "    .dataframe tbody tr th {\n",
       "        vertical-align: top;\n",
       "    }\n",
       "\n",
       "    .dataframe thead th {\n",
       "        text-align: right;\n",
       "    }\n",
       "</style>\n",
       "<table border=\"1\" class=\"dataframe\">\n",
       "  <thead>\n",
       "    <tr style=\"text-align: right;\">\n",
       "      <th></th>\n",
       "      <th>0</th>\n",
       "    </tr>\n",
       "  </thead>\n",
       "  <tbody>\n",
       "    <tr>\n",
       "      <th>0</th>\n",
       "      <td>Meeting Chairman: If we are all here, let's ge...</td>\n",
       "    </tr>\n",
       "    <tr>\n",
       "      <th>1</th>\n",
       "      <td>Jack Peterson: Thank you for having me, I'm lo...</td>\n",
       "    </tr>\n",
       "    <tr>\n",
       "      <th>2</th>\n",
       "      <td>Meeting Chairman: I'd also like to introduce M...</td>\n",
       "    </tr>\n",
       "    <tr>\n",
       "      <th>3</th>\n",
       "      <td>Margaret Simmons: May I also introduce my assi...</td>\n",
       "    </tr>\n",
       "    <tr>\n",
       "      <th>4</th>\n",
       "      <td>Meeting Chairman: Welcome Bob. I'm afraid our ...</td>\n",
       "    </tr>\n",
       "  </tbody>\n",
       "</table>\n",
       "</div>"
      ],
      "text/plain": [
       "                                                   0\n",
       "0  Meeting Chairman: If we are all here, let's ge...\n",
       "1  Jack Peterson: Thank you for having me, I'm lo...\n",
       "2  Meeting Chairman: I'd also like to introduce M...\n",
       "3  Margaret Simmons: May I also introduce my assi...\n",
       "4  Meeting Chairman: Welcome Bob. I'm afraid our ..."
      ]
     },
     "execution_count": 13,
     "metadata": {},
     "output_type": "execute_result"
    }
   ],
   "source": [
    "conversation_data[0].head()"
   ]
  },
  {
   "cell_type": "code",
   "execution_count": null,
   "metadata": {},
   "outputs": [],
   "source": []
  }
 ],
 "metadata": {
  "kernelspec": {
   "display_name": "Python 3",
   "language": "python",
   "name": "python3"
  },
  "language_info": {
   "codemirror_mode": {
    "name": "ipython",
    "version": 3
   },
   "file_extension": ".py",
   "mimetype": "text/x-python",
   "name": "python",
   "nbconvert_exporter": "python",
   "pygments_lexer": "ipython3",
   "version": "3.7.3"
  }
 },
 "nbformat": 4,
 "nbformat_minor": 4
}
