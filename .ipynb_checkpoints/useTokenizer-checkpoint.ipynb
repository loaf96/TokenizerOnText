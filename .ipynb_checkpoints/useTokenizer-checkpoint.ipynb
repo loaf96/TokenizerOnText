{
 "cells": [
  {
   "cell_type": "code",
   "execution_count": 1,
   "metadata": {},
   "outputs": [],
   "source": [
    "import tensorflow as tf\n",
    "import tensorflow.keras as tfk\n",
    "import pandas as pd\n",
    "import json"
   ]
  },
  {
   "cell_type": "code",
   "execution_count": 11,
   "metadata": {},
   "outputs": [],
   "source": [
    "files_paths = ['data/dialogue/conversation1.csv', 'data/dialogue/conversation2.csv', 'data/dialogue/conversation3.csv']"
   ]
  },
  {
   "cell_type": "code",
   "execution_count": null,
   "metadata": {},
   "outputs": [],
   "source": [
    "with open('data/data_for_normalizing/appos.json', 'r') as conjunctions_file:\n",
    "    conjunctions = json.load(conjunctions_file)\n",
    "    conjunctions = conjunctions['appos']"
   ]
  },
  {
   "cell_type": "code",
   "execution_count": 329,
   "metadata": {},
   "outputs": [],
   "source": [
    "def get_data(path_to_files, multiple_files=True):\n",
    "    if multiple_files == False:\n",
    "        data_from_files = pd.read_csv(path_to_files)\n",
    "    elif multiple_files == True:\n",
    "        data_from_files = []\n",
    "        for file_path in path_to_files:\n",
    "            file_data = pd.read_csv(file_path, index_col='Unnamed: 0')\n",
    "            data_from_files.append(file_data)\n",
    "    return data_from_files\n",
    "\n",
    "def make_dict_real(file_contents, multiple_files=True):\n",
    "    list_of_dialogue = []\n",
    "    if multiple_files == False:\n",
    "        j = file_contents['0'].tolist()\n",
    "        k = []\n",
    "        for h in j:\n",
    "            l = dict({h.split(':')[0]: h.split(': ')[-1]})\n",
    "            k.append(l)\n",
    "        list_of_dialogue = k\n",
    "    else:\n",
    "        for i in file_contents:\n",
    "            j = i['0'].tolist()\n",
    "            k = []\n",
    "            for h in j:\n",
    "                l = dict({h.split(':')[0]: h.split(': ')[-1]})\n",
    "                k.append(l)\n",
    "            list_of_dialogue.append(k)\n",
    "    return list_of_dialogue\n",
    "\n",
    "def create_df_speaker_as_index(dict_within_list, multiple_lists=True):\n",
    "    if multiple_lists == False:\n",
    "        formatted_df = pd.DataFrame([list(x.items())[0][1] for x in dict_within_list]\\\n",
    "                                    , index=[list(x.items())[0][0] for x in dict_within_list])\n",
    "    elif multiple_lists == True:\n",
    "        formatted_df = []\n",
    "        for dftobe in dict_within_list:\n",
    "            cleaned_df = pd.DataFrame([list(x.items())[0][1] for x in dftobe]\\\n",
    "                                      , index=[list(x.items())[0][0] for x in dftobe])\n",
    "            formatted_df.append(cleaned_df)\n",
    "    return formatted_df\n",
    "\n",
    "def prepare_words_for_tokenizing(list_of_words, normalize_dict):\n",
    "    df_prepped_list = []\n",
    "    for row in list_of_words:\n",
    "        lines = row['0'].to_list()\n",
    "        for co in normalize_dict:\n",
    "            signal = 'Y'\n",
    "            while signal == 'Y':\n",
    "                try:\n",
    "                    qrs[srq.index(s)] = normalize_dict[s]\n",
    "                except:\n",
    "                    'KeyError'\n",
    "                    signal ='N'\n",
    "        words_seen_before += ' '+qrs\n",
    "    return words_seen_before.split(' ')[1:]\n",
    "\n",
    "def fit_tokenizer_on_text(tokenizer_name, desired_df):\n",
    "    list_of_all_words = ' '.join(desired_df[0].tolist()) + ' '.join(desired_df.index) \n",
    "    tokenizer_name.fit_on_texts(list_of_all_words.split(' '))\n",
    "    return\n",
    "\n",
    "def texts_to_seqs(desired_df, tokenizer):\n",
    "    seqs_of_text = tokenizer.texts_to_sequences([line_of_df.split(' ') for line_of_df in desired_df[0].tolist()])\n",
    "    speakers_seqs = tokenizer.texts_to_sequences(desired_df.index)\n",
    "    seqs_of_text_with_speaker = [(speakers_seqs[y], seqs_of_text[y]) for y in range(0, len(desired_df))]\n",
    "    df_with_seqs = pd.DataFrame([seqs_of_text, speakers_seqs]).T.set_index(1)\n",
    "    return df_with_seqs"
   ]
  },
  {
   "cell_type": "code",
   "execution_count": 330,
   "metadata": {},
   "outputs": [],
   "source": [
    "with open('tokenizer/kaggle_dialogue/tokenizerWordIndex_dialogue.json', 'r') as saved_tokenizer:\n",
    "    botsSpecialDict = tf.keras.preprocessing.text.tokenizer_from_json(\\\n",
    "                                                                      json.load(\\\n",
    "                                                                                saved_tokenizer\\\n",
    "                                                                               )\\\n",
    "                                                                     )"
   ]
  },
  {
   "cell_type": "code",
   "execution_count": 331,
   "metadata": {},
   "outputs": [],
   "source": [
    "conversation_data = get_data(files_paths)\n",
    "conversation_in_lists = make_dict_real(conversation_data)"
   ]
  },
  {
   "cell_type": "code",
   "execution_count": 332,
   "metadata": {},
   "outputs": [],
   "source": [
    "listof_readyToGo_df = create_df_speaker_as_index(conversation_in_lists)"
   ]
  },
  {
   "cell_type": "code",
   "execution_count": 333,
   "metadata": {},
   "outputs": [],
   "source": [
    "fit_tokenizer_on_text(botsSpecialDict, listof_readyToGo_df[2])"
   ]
  },
  {
   "cell_type": "code",
   "execution_count": 334,
   "metadata": {},
   "outputs": [],
   "source": [
    "seqs_of_text = texts_to_seqs(listof_readyToGo_df[2], botsSpecialDict)"
   ]
  },
  {
   "cell_type": "code",
   "execution_count": 337,
   "metadata": {},
   "outputs": [],
   "source": [
    "seqs_of_text.to_csv('data/dialogue/kaggle_sequenced_dialogue3.csv')"
   ]
  },
  {
   "cell_type": "code",
   "execution_count": null,
   "metadata": {},
   "outputs": [],
   "source": []
  }
 ],
 "metadata": {
  "kernelspec": {
   "display_name": "Python 3",
   "language": "python",
   "name": "python3"
  },
  "language_info": {
   "codemirror_mode": {
    "name": "ipython",
    "version": 3
   },
   "file_extension": ".py",
   "mimetype": "text/x-python",
   "name": "python",
   "nbconvert_exporter": "python",
   "pygments_lexer": "ipython3",
   "version": "3.7.3"
  }
 },
 "nbformat": 4,
 "nbformat_minor": 4
}
